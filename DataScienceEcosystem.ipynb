{
 "cells": [
  {
   "cell_type": "markdown",
   "id": "88f11628-1e0f-4e8f-b319-59ddb8895f3c",
   "metadata": {},
   "source": [
    "# Data Science Tools and Ecosystem\n"
   ]
  },
  {
   "cell_type": "markdown",
   "id": "854cea24-bae9-4100-8eab-984cfee18350",
   "metadata": {},
   "source": [
    "## In this notebook, Data Science Tools and Ecosystem are summarized.\n",
    "\n"
   ]
  },
  {
   "cell_type": "markdown",
   "id": "754ad14c-1f21-46a5-822e-413c9067f0db",
   "metadata": {},
   "source": [
    "### Some of the popular languages that Data Scientists use are:\n",
    "1. python\n",
    "2. R\n",
    "3. SQl"
   ]
  },
  {
   "cell_type": "markdown",
   "id": "51d26280-fc33-4520-bca4-579be9eef49c",
   "metadata": {},
   "source": [
    "#### Some of the commonly used libraries used by Data Scientists include:\n",
    "1. Numpy\n",
    "2. Pandas\n",
    "3. Matplotlib\n",
    "4. Seaborn\n",
    "5. SciPy\n",
    "   "
   ]
  },
  {
   "cell_type": "markdown",
   "id": "125c21a9-9807-44a3-b84b-592ad90c6d6b",
   "metadata": {},
   "source": [
    "| Data Science Tools |\n",
    "| -------------------|\n",
    "| Apache Spark|\n",
    "|Python|\n",
    "| Power BI |"
   ]
  },
  {
   "cell_type": "markdown",
   "id": "5c0c4da2-8605-49d7-865e-e7f2212b75b8",
   "metadata": {},
   "source": [
    "### Below are a few examples of evaluating arithmetic expressions in Python.\n",
    "$$ 5 + 3 $$.\n",
    "$$ 43/3 $$\n",
    "$$ 3* 4 $$"
   ]
  },
  {
   "cell_type": "markdown",
   "id": "80b1bf34-378d-4e7c-b3f5-f29ed833796c",
   "metadata": {},
   "source": [
    "### This a simple arithmetic expression to mutiply then add integers\n",
    "$$ (3*4)+5 $$"
   ]
  },
  {
   "cell_type": "code",
   "execution_count": 2,
   "id": "24e3a631-42e7-41bb-99ef-e1c2cd4473e8",
   "metadata": {},
   "outputs": [
    {
     "name": "stdout",
     "output_type": "stream",
     "text": [
      "3.3333333333333335\n"
     ]
    }
   ],
   "source": [
    "# This will convert 200 minutes to hours by diving by 60.\n",
    "print(200/60)"
   ]
  },
  {
   "cell_type": "markdown",
   "id": "e7c35c4c-0c8b-4753-9d5c-4215e48c7fc2",
   "metadata": {},
   "source": [
    "## List popular languages for Data Science.##\n",
    "- Pyhton \n",
    "- R\n",
    "- Sql\n",
    "- C++\n",
    "- c"
   ]
  },
  {
   "cell_type": "markdown",
   "id": "0e737860-1455-4f77-a613-5ec2dd2e2aaf",
   "metadata": {},
   "source": [
    "## Author\n",
    "Author:  [Abdelali]()"
   ]
  },
  {
   "cell_type": "code",
   "execution_count": null,
   "id": "d447c232-f79a-4837-b88d-e47f99656467",
   "metadata": {},
   "outputs": [],
   "source": []
  }
 ],
 "metadata": {
  "kernelspec": {
   "display_name": "Python 3 (ipykernel)",
   "language": "python",
   "name": "python3"
  },
  "language_info": {
   "codemirror_mode": {
    "name": "ipython",
    "version": 3
   },
   "file_extension": ".py",
   "mimetype": "text/x-python",
   "name": "python",
   "nbconvert_exporter": "python",
   "pygments_lexer": "ipython3",
   "version": "3.12.1"
  }
 },
 "nbformat": 4,
 "nbformat_minor": 5
}
